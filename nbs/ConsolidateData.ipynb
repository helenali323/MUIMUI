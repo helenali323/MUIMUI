{
 "cells": [
  {
   "cell_type": "code",
   "execution_count": 1,
   "metadata": {
    "ExecuteTime": {
     "end_time": "2019-04-06T23:42:26.818606Z",
     "start_time": "2019-04-06T23:42:26.575439Z"
    }
   },
   "outputs": [],
   "source": [
    "import pandas as pd"
   ]
  },
  {
   "cell_type": "code",
   "execution_count": 2,
   "metadata": {
    "ExecuteTime": {
     "end_time": "2019-04-06T23:42:27.650365Z",
     "start_time": "2019-04-06T23:42:27.625848Z"
    }
   },
   "outputs": [],
   "source": [
    "hm = pd.read_csv('../src/scraping/HM.csv')"
   ]
  },
  {
   "cell_type": "code",
   "execution_count": 3,
   "metadata": {
    "ExecuteTime": {
     "end_time": "2019-04-06T23:42:28.190054Z",
     "start_time": "2019-04-06T23:42:28.157418Z"
    }
   },
   "outputs": [
    {
     "data": {
      "text/html": [
       "<div>\n",
       "<style scoped>\n",
       "    .dataframe tbody tr th:only-of-type {\n",
       "        vertical-align: middle;\n",
       "    }\n",
       "\n",
       "    .dataframe tbody tr th {\n",
       "        vertical-align: top;\n",
       "    }\n",
       "\n",
       "    .dataframe thead th {\n",
       "        text-align: right;\n",
       "    }\n",
       "</style>\n",
       "<table border=\"1\" class=\"dataframe\">\n",
       "  <thead>\n",
       "    <tr style=\"text-align: right;\">\n",
       "      <th></th>\n",
       "      <th>prod_page_link</th>\n",
       "      <th>image_link</th>\n",
       "      <th>name</th>\n",
       "      <th>price</th>\n",
       "      <th>description</th>\n",
       "      <th>brand</th>\n",
       "    </tr>\n",
       "  </thead>\n",
       "  <tbody>\n",
       "    <tr>\n",
       "      <th>0</th>\n",
       "      <td>https://www2.hm.com/en_us/productpage.06364550...</td>\n",
       "      <td>http://lp2.hm.com/hmgoepprod?set=source[/07/25...</td>\n",
       "      <td>Straight-cut Jacket</td>\n",
       "      <td>34.99</td>\n",
       "      <td>Straight-cut jacket in woven fabric with notch...</td>\n",
       "      <td>H&amp;M</td>\n",
       "    </tr>\n",
       "    <tr>\n",
       "      <th>1</th>\n",
       "      <td>https://www2.hm.com/en_us/productpage.07554510...</td>\n",
       "      <td>http://lp2.hm.com/hmgoepprod?set=source[/27/f3...</td>\n",
       "      <td>Linen-blend Jacket</td>\n",
       "      <td>59.99</td>\n",
       "      <td>Gently fitted jacket in soft, woven fabric mad...</td>\n",
       "      <td>H&amp;M</td>\n",
       "    </tr>\n",
       "    <tr>\n",
       "      <th>2</th>\n",
       "      <td>https://www2.hm.com/en_us/productpage.07178790...</td>\n",
       "      <td>http://lp2.hm.com/hmgoepprod?set=source[/2c/3d...</td>\n",
       "      <td>Double-breasted Jacket</td>\n",
       "      <td>34.99</td>\n",
       "      <td>Longer, double-breasted jacket in woven fabric...</td>\n",
       "      <td>H&amp;M</td>\n",
       "    </tr>\n",
       "    <tr>\n",
       "      <th>3</th>\n",
       "      <td>https://www2.hm.com/en_us/productpage.07246260...</td>\n",
       "      <td>http://lp2.hm.com/hmgoepprod?set=source[/89/66...</td>\n",
       "      <td>Linen-blend Jacket</td>\n",
       "      <td>49.99</td>\n",
       "      <td>Gently fitted jacket in a linen and viscose bl...</td>\n",
       "      <td>H&amp;M</td>\n",
       "    </tr>\n",
       "    <tr>\n",
       "      <th>4</th>\n",
       "      <td>https://www2.hm.com/en_us/productpage.05686010...</td>\n",
       "      <td>http://lp2.hm.com/hmgoepprod?set=source[/c0/a1...</td>\n",
       "      <td>Fitted Blazer</td>\n",
       "      <td>34.99</td>\n",
       "      <td>Fitted blazer in woven fabric with notched lap...</td>\n",
       "      <td>H&amp;M</td>\n",
       "    </tr>\n",
       "  </tbody>\n",
       "</table>\n",
       "</div>"
      ],
      "text/plain": [
       "                                      prod_page_link  \\\n",
       "0  https://www2.hm.com/en_us/productpage.06364550...   \n",
       "1  https://www2.hm.com/en_us/productpage.07554510...   \n",
       "2  https://www2.hm.com/en_us/productpage.07178790...   \n",
       "3  https://www2.hm.com/en_us/productpage.07246260...   \n",
       "4  https://www2.hm.com/en_us/productpage.05686010...   \n",
       "\n",
       "                                          image_link                    name  \\\n",
       "0  http://lp2.hm.com/hmgoepprod?set=source[/07/25...     Straight-cut Jacket   \n",
       "1  http://lp2.hm.com/hmgoepprod?set=source[/27/f3...      Linen-blend Jacket   \n",
       "2  http://lp2.hm.com/hmgoepprod?set=source[/2c/3d...  Double-breasted Jacket   \n",
       "3  http://lp2.hm.com/hmgoepprod?set=source[/89/66...      Linen-blend Jacket   \n",
       "4  http://lp2.hm.com/hmgoepprod?set=source[/c0/a1...           Fitted Blazer   \n",
       "\n",
       "   price                                        description brand  \n",
       "0  34.99  Straight-cut jacket in woven fabric with notch...   H&M  \n",
       "1  59.99  Gently fitted jacket in soft, woven fabric mad...   H&M  \n",
       "2  34.99  Longer, double-breasted jacket in woven fabric...   H&M  \n",
       "3  49.99  Gently fitted jacket in a linen and viscose bl...   H&M  \n",
       "4  34.99  Fitted blazer in woven fabric with notched lap...   H&M  "
      ]
     },
     "execution_count": 3,
     "metadata": {},
     "output_type": "execute_result"
    }
   ],
   "source": [
    "hm.head()"
   ]
  },
  {
   "cell_type": "code",
   "execution_count": 4,
   "metadata": {
    "ExecuteTime": {
     "end_time": "2019-04-06T23:42:28.696287Z",
     "start_time": "2019-04-06T23:42:28.683255Z"
    }
   },
   "outputs": [
    {
     "data": {
      "text/plain": [
       "prod_page_link     object\n",
       "image_link         object\n",
       "name               object\n",
       "price             float64\n",
       "description        object\n",
       "brand              object\n",
       "dtype: object"
      ]
     },
     "execution_count": 4,
     "metadata": {},
     "output_type": "execute_result"
    }
   ],
   "source": [
    "hm.dtypes"
   ]
  },
  {
   "cell_type": "code",
   "execution_count": 5,
   "metadata": {
    "ExecuteTime": {
     "end_time": "2019-04-06T23:42:29.181249Z",
     "start_time": "2019-04-06T23:42:29.172237Z"
    }
   },
   "outputs": [
    {
     "data": {
      "text/plain": [
       "'http://lp2.hm.com/hmgoepprod?set=source[/07/25/07259d7912b6276118b89f437acdf685600f82ae.jpg],origin[dam],category[ladies_blazerswaistcoats_blazers],type[LOOKBOOK],res[m],hmver[1]&call=url[file:/product/main] '"
      ]
     },
     "execution_count": 5,
     "metadata": {},
     "output_type": "execute_result"
    }
   ],
   "source": [
    "hm.image_link[0]"
   ]
  },
  {
   "cell_type": "code",
   "execution_count": 6,
   "metadata": {
    "ExecuteTime": {
     "end_time": "2019-04-06T23:42:29.678829Z",
     "start_time": "2019-04-06T23:42:29.668028Z"
    }
   },
   "outputs": [
    {
     "data": {
      "text/plain": [
       "'http://lp2.hm.com/hmgoepprod?set=source[/8b/8a/8b8a6ece6241e06c684b9881552aceb3741e2041.jpg],origin[dam],category[ladies_tops_vests],type[LOOKBOOK],res[m],hmver[1]&call=url[file:/product/main] '"
      ]
     },
     "execution_count": 6,
     "metadata": {},
     "output_type": "execute_result"
    }
   ],
   "source": [
    "hm.image_link.values[-1]"
   ]
  },
  {
   "cell_type": "code",
   "execution_count": 7,
   "metadata": {
    "ExecuteTime": {
     "end_time": "2019-04-06T23:42:30.319877Z",
     "start_time": "2019-04-06T23:42:30.161602Z"
    }
   },
   "outputs": [],
   "source": [
    "macy = pd.read_csv('../src/scraping/macys_data_combined.csv')"
   ]
  },
  {
   "cell_type": "code",
   "execution_count": 8,
   "metadata": {
    "ExecuteTime": {
     "end_time": "2019-04-06T23:42:30.654606Z",
     "start_time": "2019-04-06T23:42:30.637029Z"
    }
   },
   "outputs": [
    {
     "data": {
      "text/html": [
       "<div>\n",
       "<style scoped>\n",
       "    .dataframe tbody tr th:only-of-type {\n",
       "        vertical-align: middle;\n",
       "    }\n",
       "\n",
       "    .dataframe tbody tr th {\n",
       "        vertical-align: top;\n",
       "    }\n",
       "\n",
       "    .dataframe thead th {\n",
       "        text-align: right;\n",
       "    }\n",
       "</style>\n",
       "<table border=\"1\" class=\"dataframe\">\n",
       "  <thead>\n",
       "    <tr style=\"text-align: right;\">\n",
       "      <th></th>\n",
       "      <th>Unnamed: 0</th>\n",
       "      <th>prod_page_link</th>\n",
       "      <th>image_link</th>\n",
       "      <th>name</th>\n",
       "      <th>price</th>\n",
       "      <th>description</th>\n",
       "      <th>brand</th>\n",
       "      <th>rating</th>\n",
       "    </tr>\n",
       "  </thead>\n",
       "  <tbody>\n",
       "    <tr>\n",
       "      <th>0</th>\n",
       "      <td>0</td>\n",
       "      <td>https://www.macys.com//shop/product/jm-collect...</td>\n",
       "      <td>https://slimages.macysassets.com/is/image/MCY/...</td>\n",
       "      <td>Printed Scoop-Neck Top, Created for Macy's</td>\n",
       "      <td>34.5</td>\n",
       "      <td>Complete your casual wardrobe with this wear-e...</td>\n",
       "      <td>JM Collection</td>\n",
       "      <td>3.0</td>\n",
       "    </tr>\n",
       "    <tr>\n",
       "      <th>1</th>\n",
       "      <td>1</td>\n",
       "      <td>https://www.macys.com//shop/product/jm-collect...</td>\n",
       "      <td>https://slimages.macysassets.com/is/image/MCY/...</td>\n",
       "      <td>Printed Scoop-Neck Top, Created for Macy's</td>\n",
       "      <td>34.5</td>\n",
       "      <td>Complete your casual wardrobe with this wear-e...</td>\n",
       "      <td>JM Collection</td>\n",
       "      <td>3.0</td>\n",
       "    </tr>\n",
       "    <tr>\n",
       "      <th>2</th>\n",
       "      <td>2</td>\n",
       "      <td>https://www.macys.com//shop/product/jm-collect...</td>\n",
       "      <td>https://slimages.macysassets.com/is/image/MCY/...</td>\n",
       "      <td>3/4-Sleeve Novelty Printed Jacquard Top, Creat...</td>\n",
       "      <td>44.5</td>\n",
       "      <td>Slip into this essential JM Collection top any...</td>\n",
       "      <td>JM Collection</td>\n",
       "      <td>0.0</td>\n",
       "    </tr>\n",
       "    <tr>\n",
       "      <th>3</th>\n",
       "      <td>3</td>\n",
       "      <td>https://www.macys.com//shop/product/jm-collect...</td>\n",
       "      <td>https://slimages.macysassets.com/is/image/MCY/...</td>\n",
       "      <td>3/4-Sleeve Novelty Printed Jacquard Top, Creat...</td>\n",
       "      <td>44.5</td>\n",
       "      <td>Slip into this essential JM Collection top any...</td>\n",
       "      <td>JM Collection</td>\n",
       "      <td>0.0</td>\n",
       "    </tr>\n",
       "    <tr>\n",
       "      <th>4</th>\n",
       "      <td>4</td>\n",
       "      <td>https://www.macys.com//shop/product/jm-collect...</td>\n",
       "      <td>https://slimages.macysassets.com/is/image/MCY/...</td>\n",
       "      <td>Printed T-Shirt, Created for Macy's</td>\n",
       "      <td>34.5</td>\n",
       "      <td>A fashionable print lends an upgraded look and...</td>\n",
       "      <td>JM Collection</td>\n",
       "      <td>0.0</td>\n",
       "    </tr>\n",
       "  </tbody>\n",
       "</table>\n",
       "</div>"
      ],
      "text/plain": [
       "   Unnamed: 0                                     prod_page_link  \\\n",
       "0           0  https://www.macys.com//shop/product/jm-collect...   \n",
       "1           1  https://www.macys.com//shop/product/jm-collect...   \n",
       "2           2  https://www.macys.com//shop/product/jm-collect...   \n",
       "3           3  https://www.macys.com//shop/product/jm-collect...   \n",
       "4           4  https://www.macys.com//shop/product/jm-collect...   \n",
       "\n",
       "                                          image_link  \\\n",
       "0  https://slimages.macysassets.com/is/image/MCY/...   \n",
       "1  https://slimages.macysassets.com/is/image/MCY/...   \n",
       "2  https://slimages.macysassets.com/is/image/MCY/...   \n",
       "3  https://slimages.macysassets.com/is/image/MCY/...   \n",
       "4  https://slimages.macysassets.com/is/image/MCY/...   \n",
       "\n",
       "                                                name price  \\\n",
       "0         Printed Scoop-Neck Top, Created for Macy's  34.5   \n",
       "1         Printed Scoop-Neck Top, Created for Macy's  34.5   \n",
       "2  3/4-Sleeve Novelty Printed Jacquard Top, Creat...  44.5   \n",
       "3  3/4-Sleeve Novelty Printed Jacquard Top, Creat...  44.5   \n",
       "4                Printed T-Shirt, Created for Macy's  34.5   \n",
       "\n",
       "                                         description          brand  rating  \n",
       "0  Complete your casual wardrobe with this wear-e...  JM Collection     3.0  \n",
       "1  Complete your casual wardrobe with this wear-e...  JM Collection     3.0  \n",
       "2  Slip into this essential JM Collection top any...  JM Collection     0.0  \n",
       "3  Slip into this essential JM Collection top any...  JM Collection     0.0  \n",
       "4  A fashionable print lends an upgraded look and...  JM Collection     0.0  "
      ]
     },
     "execution_count": 8,
     "metadata": {},
     "output_type": "execute_result"
    }
   ],
   "source": [
    "macy.head()"
   ]
  },
  {
   "cell_type": "code",
   "execution_count": 9,
   "metadata": {
    "ExecuteTime": {
     "end_time": "2019-04-06T23:42:31.113645Z",
     "start_time": "2019-04-06T23:42:31.107768Z"
    }
   },
   "outputs": [
    {
     "data": {
      "text/plain": [
       "'https://slimages.macysassets.com/is/image/MCY/products/7/optimized/12077607_fpx.tif?op_sharpen=1&wid=400&hei=489&fit=fit,1&$filtersm$&fmt=webp'"
      ]
     },
     "execution_count": 9,
     "metadata": {},
     "output_type": "execute_result"
    }
   ],
   "source": [
    "macy.image_link.values[0]"
   ]
  },
  {
   "cell_type": "code",
   "execution_count": 10,
   "metadata": {
    "ExecuteTime": {
     "end_time": "2019-04-06T23:42:31.610020Z",
     "start_time": "2019-04-06T23:42:31.600741Z"
    }
   },
   "outputs": [
    {
     "data": {
      "text/plain": [
       "'https://slimages.macysassets.com/is/image/MCY/products/1/optimized/10157991_fpx.tif?bgc=255,255,255&wid=224&qlt=90,0&layer=comp&op_sharpen=0&resMode=bicub&op_usm=0.7,1.0,0.5,0&fmt=jpeg'"
      ]
     },
     "execution_count": 10,
     "metadata": {},
     "output_type": "execute_result"
    }
   ],
   "source": [
    "macy.image_link.values[-1]"
   ]
  },
  {
   "cell_type": "code",
   "execution_count": 11,
   "metadata": {
    "ExecuteTime": {
     "end_time": "2019-04-06T23:42:32.131599Z",
     "start_time": "2019-04-06T23:42:32.125951Z"
    }
   },
   "outputs": [],
   "source": [
    "import numpy as np"
   ]
  },
  {
   "cell_type": "code",
   "execution_count": 12,
   "metadata": {
    "ExecuteTime": {
     "end_time": "2019-04-06T23:42:32.613346Z",
     "start_time": "2019-04-06T23:42:32.606418Z"
    }
   },
   "outputs": [],
   "source": [
    "def string2float(x):\n",
    "    return float(x.replace(',', ''))"
   ]
  },
  {
   "cell_type": "code",
   "execution_count": 13,
   "metadata": {
    "ExecuteTime": {
     "end_time": "2019-04-06T23:42:33.109982Z",
     "start_time": "2019-04-06T23:42:33.092380Z"
    }
   },
   "outputs": [],
   "source": [
    "macy.price = macy.price.apply(string2float)"
   ]
  },
  {
   "cell_type": "code",
   "execution_count": 14,
   "metadata": {
    "ExecuteTime": {
     "end_time": "2019-04-06T23:42:33.842562Z",
     "start_time": "2019-04-06T23:42:33.824342Z"
    }
   },
   "outputs": [
    {
     "data": {
      "text/plain": [
       "Unnamed: 0          int64\n",
       "prod_page_link     object\n",
       "image_link         object\n",
       "name               object\n",
       "price             float64\n",
       "description        object\n",
       "brand              object\n",
       "rating            float64\n",
       "dtype: object"
      ]
     },
     "execution_count": 14,
     "metadata": {},
     "output_type": "execute_result"
    }
   ],
   "source": [
    "macy.dtypes"
   ]
  },
  {
   "cell_type": "code",
   "execution_count": 15,
   "metadata": {
    "ExecuteTime": {
     "end_time": "2019-04-06T23:42:34.808329Z",
     "start_time": "2019-04-06T23:42:34.775320Z"
    }
   },
   "outputs": [],
   "source": [
    "tp = pd.read_csv('../src/scraping/topshopwithdesc.csv')"
   ]
  },
  {
   "cell_type": "code",
   "execution_count": 16,
   "metadata": {
    "ExecuteTime": {
     "end_time": "2019-04-06T23:42:35.642454Z",
     "start_time": "2019-04-06T23:42:35.631628Z"
    }
   },
   "outputs": [
    {
     "data": {
      "text/html": [
       "<div>\n",
       "<style scoped>\n",
       "    .dataframe tbody tr th:only-of-type {\n",
       "        vertical-align: middle;\n",
       "    }\n",
       "\n",
       "    .dataframe tbody tr th {\n",
       "        vertical-align: top;\n",
       "    }\n",
       "\n",
       "    .dataframe thead th {\n",
       "        text-align: right;\n",
       "    }\n",
       "</style>\n",
       "<table border=\"1\" class=\"dataframe\">\n",
       "  <thead>\n",
       "    <tr style=\"text-align: right;\">\n",
       "      <th></th>\n",
       "      <th>link</th>\n",
       "      <th>product_name</th>\n",
       "      <th>price</th>\n",
       "      <th>image_link</th>\n",
       "      <th>brand</th>\n",
       "      <th>desc</th>\n",
       "    </tr>\n",
       "  </thead>\n",
       "  <tbody>\n",
       "    <tr>\n",
       "      <th>0</th>\n",
       "      <td>http://us.topshop.com/en/tsus/product/clothing...</td>\n",
       "      <td>Check Peg Trousers</td>\n",
       "      <td>68.00</td>\n",
       "      <td>https://images.topshop.com/i/TopShop/TS16R06QC...</td>\n",
       "      <td>TopShop</td>\n",
       "      <td>Tap into the patterned look with these all ove...</td>\n",
       "    </tr>\n",
       "    <tr>\n",
       "      <th>1</th>\n",
       "      <td>http://us.topshop.com/en/tsus/product/clothing...</td>\n",
       "      <td>Scarf Hanky Top</td>\n",
       "      <td>48.00</td>\n",
       "      <td>https://images.topshop.com/i/TopShop/TS13R14QR...</td>\n",
       "      <td>TopShop</td>\n",
       "      <td>This scarf printed hanky top in red embraces u...</td>\n",
       "    </tr>\n",
       "    <tr>\n",
       "      <th>2</th>\n",
       "      <td>http://us.topshop.com/en/tsus/product/clothing...</td>\n",
       "      <td>Clip Buckle Pinafore</td>\n",
       "      <td>68.00</td>\n",
       "      <td>https://images.topshop.com/i/TopShop/TS05P81PW...</td>\n",
       "      <td>TopShop</td>\n",
       "      <td>This clip buckle denim pinafore is a modern mu...</td>\n",
       "    </tr>\n",
       "    <tr>\n",
       "      <th>3</th>\n",
       "      <td>http://us.topshop.com/en/tsus/product/clothing...</td>\n",
       "      <td>Mid Blue Laddered Hem Straight Jeans</td>\n",
       "      <td>80.00</td>\n",
       "      <td>https://images.topshop.com/i/TopShop/TS02G25QM...</td>\n",
       "      <td>TopShop</td>\n",
       "      <td>These high rise, straight leg jeans in authent...</td>\n",
       "    </tr>\n",
       "    <tr>\n",
       "      <th>4</th>\n",
       "      <td>http://us.topshop.com/en/tsus/product/clothing...</td>\n",
       "      <td>Giraffe Cami</td>\n",
       "      <td>35.00</td>\n",
       "      <td>https://images.topshop.com/i/TopShop/TS13A22QY...</td>\n",
       "      <td>TopShop</td>\n",
       "      <td>This all over giraffe camisole top does animal...</td>\n",
       "    </tr>\n",
       "  </tbody>\n",
       "</table>\n",
       "</div>"
      ],
      "text/plain": [
       "                                                link  \\\n",
       "0  http://us.topshop.com/en/tsus/product/clothing...   \n",
       "1  http://us.topshop.com/en/tsus/product/clothing...   \n",
       "2  http://us.topshop.com/en/tsus/product/clothing...   \n",
       "3  http://us.topshop.com/en/tsus/product/clothing...   \n",
       "4  http://us.topshop.com/en/tsus/product/clothing...   \n",
       "\n",
       "                           product_name  price  \\\n",
       "0                    Check Peg Trousers  68.00   \n",
       "1                       Scarf Hanky Top  48.00   \n",
       "2                  Clip Buckle Pinafore  68.00   \n",
       "3  Mid Blue Laddered Hem Straight Jeans  80.00   \n",
       "4                          Giraffe Cami  35.00   \n",
       "\n",
       "                                          image_link    brand  \\\n",
       "0  https://images.topshop.com/i/TopShop/TS16R06QC...  TopShop   \n",
       "1  https://images.topshop.com/i/TopShop/TS13R14QR...  TopShop   \n",
       "2  https://images.topshop.com/i/TopShop/TS05P81PW...  TopShop   \n",
       "3  https://images.topshop.com/i/TopShop/TS02G25QM...  TopShop   \n",
       "4  https://images.topshop.com/i/TopShop/TS13A22QY...  TopShop   \n",
       "\n",
       "                                                desc  \n",
       "0  Tap into the patterned look with these all ove...  \n",
       "1  This scarf printed hanky top in red embraces u...  \n",
       "2  This clip buckle denim pinafore is a modern mu...  \n",
       "3  These high rise, straight leg jeans in authent...  \n",
       "4  This all over giraffe camisole top does animal...  "
      ]
     },
     "execution_count": 16,
     "metadata": {},
     "output_type": "execute_result"
    }
   ],
   "source": [
    "tp.head()"
   ]
  },
  {
   "cell_type": "code",
   "execution_count": 17,
   "metadata": {
    "ExecuteTime": {
     "end_time": "2019-04-06T23:42:36.211614Z",
     "start_time": "2019-04-06T23:42:36.205734Z"
    }
   },
   "outputs": [],
   "source": [
    "import re"
   ]
  },
  {
   "cell_type": "code",
   "execution_count": 18,
   "metadata": {
    "ExecuteTime": {
     "end_time": "2019-04-06T23:42:36.770562Z",
     "start_time": "2019-04-06T23:42:36.762917Z"
    }
   },
   "outputs": [],
   "source": [
    "def string2float(x):\n",
    "    return float(re.sub(r'[^\\d.]+', '', x))"
   ]
  },
  {
   "cell_type": "code",
   "execution_count": 19,
   "metadata": {
    "ExecuteTime": {
     "end_time": "2019-04-06T23:42:37.205425Z",
     "start_time": "2019-04-06T23:42:37.195957Z"
    }
   },
   "outputs": [
    {
     "data": {
      "text/plain": [
       "link            object\n",
       "product_name    object\n",
       "price           object\n",
       "image_link      object\n",
       "brand           object\n",
       "desc            object\n",
       "dtype: object"
      ]
     },
     "execution_count": 19,
     "metadata": {},
     "output_type": "execute_result"
    }
   ],
   "source": [
    "tp.dtypes"
   ]
  },
  {
   "cell_type": "code",
   "execution_count": 20,
   "metadata": {
    "ExecuteTime": {
     "end_time": "2019-04-06T23:42:37.623314Z",
     "start_time": "2019-04-06T23:42:37.613346Z"
    }
   },
   "outputs": [],
   "source": [
    "tp = tp[~tp.price.isna()]"
   ]
  },
  {
   "cell_type": "code",
   "execution_count": 21,
   "metadata": {
    "ExecuteTime": {
     "end_time": "2019-04-06T23:42:38.036248Z",
     "start_time": "2019-04-06T23:42:37.995397Z"
    }
   },
   "outputs": [],
   "source": [
    "tp.price = tp.price.apply(string2float)"
   ]
  },
  {
   "cell_type": "code",
   "execution_count": 22,
   "metadata": {
    "ExecuteTime": {
     "end_time": "2019-04-06T23:42:38.440240Z",
     "start_time": "2019-04-06T23:42:38.430558Z"
    }
   },
   "outputs": [
    {
     "data": {
      "text/plain": [
       "link             object\n",
       "product_name     object\n",
       "price           float64\n",
       "image_link       object\n",
       "brand            object\n",
       "desc             object\n",
       "dtype: object"
      ]
     },
     "execution_count": 22,
     "metadata": {},
     "output_type": "execute_result"
    }
   ],
   "source": [
    "tp.dtypes"
   ]
  },
  {
   "cell_type": "code",
   "execution_count": 23,
   "metadata": {
    "ExecuteTime": {
     "end_time": "2019-04-06T23:42:38.830561Z",
     "start_time": "2019-04-06T23:42:38.819687Z"
    }
   },
   "outputs": [
    {
     "data": {
      "text/plain": [
       "'https://images.topshop.com/i/TopShop/TS16R06QCNM_M_1.jpg?$Large$'"
      ]
     },
     "execution_count": 23,
     "metadata": {},
     "output_type": "execute_result"
    }
   ],
   "source": [
    "tp.image_link[0]"
   ]
  },
  {
   "cell_type": "code",
   "execution_count": 24,
   "metadata": {
    "ExecuteTime": {
     "end_time": "2019-04-06T23:42:39.184787Z",
     "start_time": "2019-04-06T23:42:39.177469Z"
    }
   },
   "outputs": [
    {
     "data": {
      "text/plain": [
       "'https://images.topshop.com/i/TopShop/TS43T02LDND_M_1.jpg?$Large$'"
      ]
     },
     "execution_count": 24,
     "metadata": {},
     "output_type": "execute_result"
    }
   ],
   "source": [
    "tp.image_link.values[-1]"
   ]
  },
  {
   "cell_type": "code",
   "execution_count": 25,
   "metadata": {
    "ExecuteTime": {
     "end_time": "2019-04-06T23:42:39.651537Z",
     "start_time": "2019-04-06T23:42:39.578035Z"
    }
   },
   "outputs": [],
   "source": [
    "mn = pd.read_csv('../src/scraping/mango (2).csv')"
   ]
  },
  {
   "cell_type": "code",
   "execution_count": 26,
   "metadata": {
    "ExecuteTime": {
     "end_time": "2019-04-06T23:42:39.987652Z",
     "start_time": "2019-04-06T23:42:39.974790Z"
    }
   },
   "outputs": [
    {
     "data": {
      "text/html": [
       "<div>\n",
       "<style scoped>\n",
       "    .dataframe tbody tr th:only-of-type {\n",
       "        vertical-align: middle;\n",
       "    }\n",
       "\n",
       "    .dataframe tbody tr th {\n",
       "        vertical-align: top;\n",
       "    }\n",
       "\n",
       "    .dataframe thead th {\n",
       "        text-align: right;\n",
       "    }\n",
       "</style>\n",
       "<table border=\"1\" class=\"dataframe\">\n",
       "  <thead>\n",
       "    <tr style=\"text-align: right;\">\n",
       "      <th></th>\n",
       "      <th>web-scraper-order</th>\n",
       "      <th>web-scraper-start-url</th>\n",
       "      <th>page_link</th>\n",
       "      <th>page_link-href</th>\n",
       "      <th>product</th>\n",
       "      <th>product-href</th>\n",
       "      <th>name</th>\n",
       "      <th>price</th>\n",
       "      <th>description</th>\n",
       "      <th>image_url-src</th>\n",
       "    </tr>\n",
       "  </thead>\n",
       "  <tbody>\n",
       "    <tr>\n",
       "      <th>0</th>\n",
       "      <td>1554008449-3815</td>\n",
       "      <td>https://shop.mango.com/us/women</td>\n",
       "      <td>Rompers</td>\n",
       "      <td>https://shop.mango.com/redirect.faces?op=conta...</td>\n",
       "      <td>d\\n                      d\\n                  ...</td>\n",
       "      <td>https://shop.mango.com/us/women/jumpsuits-long...</td>\n",
       "      <td>Ruched long jumpsuit</td>\n",
       "      <td>$99.99</td>\n",
       "      <td>Description Long design. Short batwing sleeve....</td>\n",
       "      <td>//st.mngbcn.com/rcs/pics/static/T4/fotos/outfi...</td>\n",
       "    </tr>\n",
       "    <tr>\n",
       "      <th>1</th>\n",
       "      <td>1554007645-2795</td>\n",
       "      <td>https://shop.mango.com/us/women</td>\n",
       "      <td>T-shirts and tops</td>\n",
       "      <td>https://shop.mango.com/redirect.faces?op=conta...</td>\n",
       "      <td>d\\n                      d\\n                  ...</td>\n",
       "      <td>https://shop.mango.com/us/women/t-shirts-and-t...</td>\n",
       "      <td>Halter neck top</td>\n",
       "      <td>$39.99</td>\n",
       "      <td>Description Fine-knit fabric. Halterneck. Slee...</td>\n",
       "      <td>//st.mngbcn.com/rcs/pics/static/T4/fotos/outfi...</td>\n",
       "    </tr>\n",
       "    <tr>\n",
       "      <th>2</th>\n",
       "      <td>1554008118-3397</td>\n",
       "      <td>https://shop.mango.com/us/women</td>\n",
       "      <td>Cardigans and sweaters</td>\n",
       "      <td>https://shop.mango.com/redirect.faces?op=conta...</td>\n",
       "      <td>d\\n                      d\\n                  ...</td>\n",
       "      <td>https://shop.mango.com/us/women/cardigans-and-...</td>\n",
       "      <td>Ribbed neck sweater</td>\n",
       "      <td>$69.99</td>\n",
       "      <td>Description Funnel neck. Ribbed collar. Long s...</td>\n",
       "      <td>//st.mngbcn.com/rcs/pics/static/T4/fotos/S20/4...</td>\n",
       "    </tr>\n",
       "    <tr>\n",
       "      <th>3</th>\n",
       "      <td>1554008770-4248</td>\n",
       "      <td>https://shop.mango.com/us/women</td>\n",
       "      <td>Dresses</td>\n",
       "      <td>https://shop.mango.com/redirect.faces?op=conta...</td>\n",
       "      <td>d\\n                      d\\n                  ...</td>\n",
       "      <td>https://shop.mango.com/us/women/dresses-midi/v...</td>\n",
       "      <td>Vichy check dress</td>\n",
       "      <td>$99.99</td>\n",
       "      <td>Description Cotton fabric. Flared design. V-ne...</td>\n",
       "      <td>//st.mngbcn.com/rcs/pics/static/T4/fotos/S20/4...</td>\n",
       "    </tr>\n",
       "    <tr>\n",
       "      <th>4</th>\n",
       "      <td>1554009045-4629</td>\n",
       "      <td>https://shop.mango.com/us/women</td>\n",
       "      <td>Suits</td>\n",
       "      <td>https://shop.mango.com/redirect.faces?op=conta...</td>\n",
       "      <td>d\\n                      d\\n                  ...</td>\n",
       "      <td>https://shop.mango.com/us/women/jackets-blazer...</td>\n",
       "      <td>Essential structured blazer</td>\n",
       "      <td>$59.99</td>\n",
       "      <td>Description Structured design. Long design. La...</td>\n",
       "      <td>//st.mngbcn.com/rcs/pics/static/T4/fotos/S20/4...</td>\n",
       "    </tr>\n",
       "  </tbody>\n",
       "</table>\n",
       "</div>"
      ],
      "text/plain": [
       "  web-scraper-order            web-scraper-start-url               page_link  \\\n",
       "0   1554008449-3815  https://shop.mango.com/us/women                 Rompers   \n",
       "1   1554007645-2795  https://shop.mango.com/us/women       T-shirts and tops   \n",
       "2   1554008118-3397  https://shop.mango.com/us/women  Cardigans and sweaters   \n",
       "3   1554008770-4248  https://shop.mango.com/us/women                 Dresses   \n",
       "4   1554009045-4629  https://shop.mango.com/us/women                   Suits   \n",
       "\n",
       "                                      page_link-href  \\\n",
       "0  https://shop.mango.com/redirect.faces?op=conta...   \n",
       "1  https://shop.mango.com/redirect.faces?op=conta...   \n",
       "2  https://shop.mango.com/redirect.faces?op=conta...   \n",
       "3  https://shop.mango.com/redirect.faces?op=conta...   \n",
       "4  https://shop.mango.com/redirect.faces?op=conta...   \n",
       "\n",
       "                                             product  \\\n",
       "0  d\\n                      d\\n                  ...   \n",
       "1  d\\n                      d\\n                  ...   \n",
       "2  d\\n                      d\\n                  ...   \n",
       "3  d\\n                      d\\n                  ...   \n",
       "4  d\\n                      d\\n                  ...   \n",
       "\n",
       "                                        product-href  \\\n",
       "0  https://shop.mango.com/us/women/jumpsuits-long...   \n",
       "1  https://shop.mango.com/us/women/t-shirts-and-t...   \n",
       "2  https://shop.mango.com/us/women/cardigans-and-...   \n",
       "3  https://shop.mango.com/us/women/dresses-midi/v...   \n",
       "4  https://shop.mango.com/us/women/jackets-blazer...   \n",
       "\n",
       "                          name   price  \\\n",
       "0         Ruched long jumpsuit  $99.99   \n",
       "1              Halter neck top  $39.99   \n",
       "2          Ribbed neck sweater  $69.99   \n",
       "3            Vichy check dress  $99.99   \n",
       "4  Essential structured blazer  $59.99   \n",
       "\n",
       "                                         description  \\\n",
       "0  Description Long design. Short batwing sleeve....   \n",
       "1  Description Fine-knit fabric. Halterneck. Slee...   \n",
       "2  Description Funnel neck. Ribbed collar. Long s...   \n",
       "3  Description Cotton fabric. Flared design. V-ne...   \n",
       "4  Description Structured design. Long design. La...   \n",
       "\n",
       "                                       image_url-src  \n",
       "0  //st.mngbcn.com/rcs/pics/static/T4/fotos/outfi...  \n",
       "1  //st.mngbcn.com/rcs/pics/static/T4/fotos/outfi...  \n",
       "2  //st.mngbcn.com/rcs/pics/static/T4/fotos/S20/4...  \n",
       "3  //st.mngbcn.com/rcs/pics/static/T4/fotos/S20/4...  \n",
       "4  //st.mngbcn.com/rcs/pics/static/T4/fotos/S20/4...  "
      ]
     },
     "execution_count": 26,
     "metadata": {},
     "output_type": "execute_result"
    }
   ],
   "source": [
    "mn.head()"
   ]
  },
  {
   "cell_type": "code",
   "execution_count": 27,
   "metadata": {
    "ExecuteTime": {
     "end_time": "2019-04-06T23:42:41.214755Z",
     "start_time": "2019-04-06T23:42:41.187775Z"
    }
   },
   "outputs": [],
   "source": [
    "mn.price = mn.price.apply(string2float)"
   ]
  },
  {
   "cell_type": "code",
   "execution_count": 28,
   "metadata": {
    "ExecuteTime": {
     "end_time": "2019-04-06T23:42:42.100802Z",
     "start_time": "2019-04-06T23:42:42.095652Z"
    }
   },
   "outputs": [
    {
     "data": {
      "text/plain": [
       "web-scraper-order         object\n",
       "web-scraper-start-url     object\n",
       "page_link                 object\n",
       "page_link-href            object\n",
       "product                   object\n",
       "product-href              object\n",
       "name                      object\n",
       "price                    float64\n",
       "description               object\n",
       "image_url-src             object\n",
       "dtype: object"
      ]
     },
     "execution_count": 28,
     "metadata": {},
     "output_type": "execute_result"
    }
   ],
   "source": [
    "mn.dtypes"
   ]
  },
  {
   "cell_type": "code",
   "execution_count": 29,
   "metadata": {
    "ExecuteTime": {
     "end_time": "2019-04-06T23:42:42.750435Z",
     "start_time": "2019-04-06T23:42:42.737204Z"
    }
   },
   "outputs": [],
   "source": [
    "mn['image_url-src'] = mn['image_url-src'].apply(lambda x: x[2:])"
   ]
  },
  {
   "cell_type": "code",
   "execution_count": 30,
   "metadata": {
    "ExecuteTime": {
     "end_time": "2019-04-06T23:42:43.550964Z",
     "start_time": "2019-04-06T23:42:43.547998Z"
    }
   },
   "outputs": [],
   "source": [
    "columns = ['product_name', 'page_link', 'price', 'description', 'image_link', 'brand']"
   ]
  },
  {
   "cell_type": "code",
   "execution_count": 32,
   "metadata": {
    "ExecuteTime": {
     "end_time": "2019-04-06T23:43:19.576321Z",
     "start_time": "2019-04-06T23:43:19.569255Z"
    }
   },
   "outputs": [
    {
     "data": {
      "text/plain": [
       "28915"
      ]
     },
     "execution_count": 32,
     "metadata": {},
     "output_type": "execute_result"
    }
   ],
   "source": [
    "hm.shape[0] + macy.shape[0] + tp.shape[0] + mn.shape[0]"
   ]
  },
  {
   "cell_type": "code",
   "execution_count": 33,
   "metadata": {
    "ExecuteTime": {
     "end_time": "2019-04-06T23:44:06.037984Z",
     "start_time": "2019-04-06T23:44:06.022096Z"
    }
   },
   "outputs": [],
   "source": [
    "bn = pd.read_csv('../src/scraping/banana_republic.csv')"
   ]
  },
  {
   "cell_type": "code",
   "execution_count": 37,
   "metadata": {
    "ExecuteTime": {
     "end_time": "2019-04-06T23:45:21.933724Z",
     "start_time": "2019-04-06T23:45:21.926904Z"
    }
   },
   "outputs": [],
   "source": [
    "bn.columns = ['Unnamed: 0', 'image_link', 'product_name', 'page_link', 'price', 'description', 'brand']"
   ]
  },
  {
   "cell_type": "code",
   "execution_count": 39,
   "metadata": {
    "ExecuteTime": {
     "end_time": "2019-04-06T23:45:29.601264Z",
     "start_time": "2019-04-06T23:45:29.595581Z"
    }
   },
   "outputs": [],
   "source": [
    "df = pd.DataFrame(columns=columns)"
   ]
  },
  {
   "cell_type": "code",
   "execution_count": 40,
   "metadata": {
    "ExecuteTime": {
     "end_time": "2019-04-06T23:45:31.204519Z",
     "start_time": "2019-04-06T23:45:31.199614Z"
    }
   },
   "outputs": [],
   "source": [
    "hm.columns = ['page_link', 'image_link', 'product_name', 'price', 'description', 'brand']"
   ]
  },
  {
   "cell_type": "code",
   "execution_count": 41,
   "metadata": {
    "ExecuteTime": {
     "end_time": "2019-04-06T23:45:31.648794Z",
     "start_time": "2019-04-06T23:45:31.638266Z"
    }
   },
   "outputs": [],
   "source": [
    "df = pd.concat([df, hm[columns]])"
   ]
  },
  {
   "cell_type": "code",
   "execution_count": 42,
   "metadata": {
    "ExecuteTime": {
     "end_time": "2019-04-06T23:45:32.023056Z",
     "start_time": "2019-04-06T23:45:32.016408Z"
    }
   },
   "outputs": [],
   "source": [
    "macy.columns = ['Unnamed: 0', 'page_link', 'image_link', 'product_name', 'price', 'description', 'brand', 'rating']"
   ]
  },
  {
   "cell_type": "code",
   "execution_count": 43,
   "metadata": {
    "ExecuteTime": {
     "end_time": "2019-04-06T23:45:32.349912Z",
     "start_time": "2019-04-06T23:45:32.333836Z"
    }
   },
   "outputs": [],
   "source": [
    "df = pd.concat([df, macy[columns]])"
   ]
  },
  {
   "cell_type": "code",
   "execution_count": 44,
   "metadata": {
    "ExecuteTime": {
     "end_time": "2019-04-06T23:45:32.756535Z",
     "start_time": "2019-04-06T23:45:32.751853Z"
    }
   },
   "outputs": [],
   "source": [
    "tp.columns = ['page_link', 'product_name', 'price', 'image_link', 'brand', 'description']"
   ]
  },
  {
   "cell_type": "code",
   "execution_count": 45,
   "metadata": {
    "ExecuteTime": {
     "end_time": "2019-04-06T23:45:33.190267Z",
     "start_time": "2019-04-06T23:45:33.170385Z"
    }
   },
   "outputs": [],
   "source": [
    "df = pd.concat([df, tp[columns]])"
   ]
  },
  {
   "cell_type": "code",
   "execution_count": 46,
   "metadata": {
    "ExecuteTime": {
     "end_time": "2019-04-06T23:45:35.916328Z",
     "start_time": "2019-04-06T23:45:35.910940Z"
    }
   },
   "outputs": [],
   "source": [
    "mn.columns = ['web-scraper-order', 'web-scraper-start-url', 'brand',\n",
    "              'page_dummy', 'product', 'page_link', 'product_name', 'price',\n",
    "              'description', 'image_link']"
   ]
  },
  {
   "cell_type": "code",
   "execution_count": 47,
   "metadata": {
    "ExecuteTime": {
     "end_time": "2019-04-06T23:45:36.397607Z",
     "start_time": "2019-04-06T23:45:36.378040Z"
    }
   },
   "outputs": [],
   "source": [
    "df = pd.concat([df, mn[columns]])"
   ]
  },
  {
   "cell_type": "code",
   "execution_count": 48,
   "metadata": {
    "ExecuteTime": {
     "end_time": "2019-04-06T23:45:50.121722Z",
     "start_time": "2019-04-06T23:45:50.106432Z"
    }
   },
   "outputs": [],
   "source": [
    "df = pd.concat([df, bn[columns]])"
   ]
  },
  {
   "cell_type": "code",
   "execution_count": 49,
   "metadata": {
    "ExecuteTime": {
     "end_time": "2019-04-06T23:45:51.482159Z",
     "start_time": "2019-04-06T23:45:51.471376Z"
    }
   },
   "outputs": [
    {
     "data": {
      "text/html": [
       "<div>\n",
       "<style scoped>\n",
       "    .dataframe tbody tr th:only-of-type {\n",
       "        vertical-align: middle;\n",
       "    }\n",
       "\n",
       "    .dataframe tbody tr th {\n",
       "        vertical-align: top;\n",
       "    }\n",
       "\n",
       "    .dataframe thead th {\n",
       "        text-align: right;\n",
       "    }\n",
       "</style>\n",
       "<table border=\"1\" class=\"dataframe\">\n",
       "  <thead>\n",
       "    <tr style=\"text-align: right;\">\n",
       "      <th></th>\n",
       "      <th>product_name</th>\n",
       "      <th>page_link</th>\n",
       "      <th>price</th>\n",
       "      <th>description</th>\n",
       "      <th>image_link</th>\n",
       "      <th>brand</th>\n",
       "    </tr>\n",
       "  </thead>\n",
       "  <tbody>\n",
       "    <tr>\n",
       "      <th>1450</th>\n",
       "      <td>Vegan Suede Mini Skirt</td>\n",
       "      <td>https://bananarepublic.gap.com//browse/product...</td>\n",
       "      <td>88.0</td>\n",
       "      <td>A classic mini skirt in a luxurious vegan sued...</td>\n",
       "      <td>https://www2.assets-gap.com/webcontent/0016/22...</td>\n",
       "      <td>Banana Republic</td>\n",
       "    </tr>\n",
       "    <tr>\n",
       "      <th>1451</th>\n",
       "      <td>Italian Tweed Mini Skirt</td>\n",
       "      <td>https://bananarepublic.gap.com//browse/product...</td>\n",
       "      <td>98.5</td>\n",
       "      <td>An A-line mini skirt, made in luxuriously text...</td>\n",
       "      <td>https://www2.assets-gap.com/webcontent/0016/16...</td>\n",
       "      <td>Banana Republic</td>\n",
       "    </tr>\n",
       "    <tr>\n",
       "      <th>1452</th>\n",
       "      <td>Stretch-Suede Mini Skirt</td>\n",
       "      <td>https://bananarepublic.gap.com//browse/product...</td>\n",
       "      <td>398.0</td>\n",
       "      <td>To celebrate Banana Republic's 40th anniversar...</td>\n",
       "      <td>https://www4.assets-gap.com/webcontent/0015/73...</td>\n",
       "      <td>Banana Republic</td>\n",
       "    </tr>\n",
       "    <tr>\n",
       "      <th>1453</th>\n",
       "      <td>Vegan Suede Mini Skirt</td>\n",
       "      <td>https://bananarepublic.gap.com//browse/product...</td>\n",
       "      <td>88.0</td>\n",
       "      <td>A classic mini skirt in a luxurious vegan sued...</td>\n",
       "      <td>https://www3.assets-gap.com/webcontent/0016/22...</td>\n",
       "      <td>Banana Republic</td>\n",
       "    </tr>\n",
       "    <tr>\n",
       "      <th>1454</th>\n",
       "      <td>Wrap Effect Pencil Skirt</td>\n",
       "      <td>https://bananarepublic.gap.com//browse/product...</td>\n",
       "      <td>89.5</td>\n",
       "      <td>A timeless pencil skirt with wrap-effect front...</td>\n",
       "      <td>https://www3.assets-gap.com/webcontent/0016/37...</td>\n",
       "      <td>Banana Republic</td>\n",
       "    </tr>\n",
       "  </tbody>\n",
       "</table>\n",
       "</div>"
      ],
      "text/plain": [
       "                  product_name  \\\n",
       "1450    Vegan Suede Mini Skirt   \n",
       "1451  Italian Tweed Mini Skirt   \n",
       "1452  Stretch-Suede Mini Skirt   \n",
       "1453    Vegan Suede Mini Skirt   \n",
       "1454  Wrap Effect Pencil Skirt   \n",
       "\n",
       "                                              page_link  price  \\\n",
       "1450  https://bananarepublic.gap.com//browse/product...   88.0   \n",
       "1451  https://bananarepublic.gap.com//browse/product...   98.5   \n",
       "1452  https://bananarepublic.gap.com//browse/product...  398.0   \n",
       "1453  https://bananarepublic.gap.com//browse/product...   88.0   \n",
       "1454  https://bananarepublic.gap.com//browse/product...   89.5   \n",
       "\n",
       "                                            description  \\\n",
       "1450  A classic mini skirt in a luxurious vegan sued...   \n",
       "1451  An A-line mini skirt, made in luxuriously text...   \n",
       "1452  To celebrate Banana Republic's 40th anniversar...   \n",
       "1453  A classic mini skirt in a luxurious vegan sued...   \n",
       "1454  A timeless pencil skirt with wrap-effect front...   \n",
       "\n",
       "                                             image_link            brand  \n",
       "1450  https://www2.assets-gap.com/webcontent/0016/22...  Banana Republic  \n",
       "1451  https://www2.assets-gap.com/webcontent/0016/16...  Banana Republic  \n",
       "1452  https://www4.assets-gap.com/webcontent/0015/73...  Banana Republic  \n",
       "1453  https://www3.assets-gap.com/webcontent/0016/22...  Banana Republic  \n",
       "1454  https://www3.assets-gap.com/webcontent/0016/37...  Banana Republic  "
      ]
     },
     "execution_count": 49,
     "metadata": {},
     "output_type": "execute_result"
    }
   ],
   "source": [
    "df.tail()"
   ]
  },
  {
   "cell_type": "code",
   "execution_count": 50,
   "metadata": {
    "ExecuteTime": {
     "end_time": "2019-04-06T23:45:53.163710Z",
     "start_time": "2019-04-06T23:45:53.156610Z"
    }
   },
   "outputs": [],
   "source": [
    "df.reset_index(drop=True, inplace=True)"
   ]
  },
  {
   "cell_type": "code",
   "execution_count": 51,
   "metadata": {
    "ExecuteTime": {
     "end_time": "2019-04-06T23:45:53.776024Z",
     "start_time": "2019-04-06T23:45:53.765548Z"
    }
   },
   "outputs": [
    {
     "data": {
      "text/plain": [
       "(30370, 6)"
      ]
     },
     "execution_count": 51,
     "metadata": {},
     "output_type": "execute_result"
    }
   ],
   "source": [
    "df.shape"
   ]
  },
  {
   "cell_type": "code",
   "execution_count": 52,
   "metadata": {
    "ExecuteTime": {
     "end_time": "2019-04-06T23:45:57.625988Z",
     "start_time": "2019-04-06T23:45:57.327389Z"
    }
   },
   "outputs": [],
   "source": [
    "df.to_csv('../src/scraping/consolidated.csv')"
   ]
  },
  {
   "cell_type": "code",
   "execution_count": null,
   "metadata": {},
   "outputs": [],
   "source": []
  }
 ],
 "metadata": {
  "kernelspec": {
   "display_name": "muimui",
   "language": "python",
   "name": "myenv"
  },
  "language_info": {
   "codemirror_mode": {
    "name": "ipython",
    "version": 3
   },
   "file_extension": ".py",
   "mimetype": "text/x-python",
   "name": "python",
   "nbconvert_exporter": "python",
   "pygments_lexer": "ipython3",
   "version": "3.7.1"
  },
  "toc": {
   "base_numbering": 1,
   "nav_menu": {},
   "number_sections": true,
   "sideBar": true,
   "skip_h1_title": false,
   "title_cell": "Table of Contents",
   "title_sidebar": "Contents",
   "toc_cell": false,
   "toc_position": {},
   "toc_section_display": true,
   "toc_window_display": false
  }
 },
 "nbformat": 4,
 "nbformat_minor": 2
}
