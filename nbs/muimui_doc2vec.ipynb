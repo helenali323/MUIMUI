{
 "cells": [
  {
   "cell_type": "code",
   "execution_count": 59,
   "metadata": {
    "ExecuteTime": {
     "end_time": "2019-04-07T04:53:31.706711Z",
     "start_time": "2019-04-07T04:53:31.703903Z"
    }
   },
   "outputs": [],
   "source": [
    "import pandas as pd\n",
    "import feather"
   ]
  },
  {
   "cell_type": "code",
   "execution_count": 60,
   "metadata": {
    "ExecuteTime": {
     "end_time": "2019-04-07T04:53:32.313114Z",
     "start_time": "2019-04-07T04:53:32.255777Z"
    }
   },
   "outputs": [],
   "source": [
    "df = feather.read_dataframe('consolidated.feather')"
   ]
  },
  {
   "cell_type": "code",
   "execution_count": 61,
   "metadata": {
    "ExecuteTime": {
     "end_time": "2019-04-07T04:53:32.550045Z",
     "start_time": "2019-04-07T04:53:32.538578Z"
    }
   },
   "outputs": [
    {
     "data": {
      "text/html": [
       "<div>\n",
       "<style scoped>\n",
       "    .dataframe tbody tr th:only-of-type {\n",
       "        vertical-align: middle;\n",
       "    }\n",
       "\n",
       "    .dataframe tbody tr th {\n",
       "        vertical-align: top;\n",
       "    }\n",
       "\n",
       "    .dataframe thead th {\n",
       "        text-align: right;\n",
       "    }\n",
       "</style>\n",
       "<table border=\"1\" class=\"dataframe\">\n",
       "  <thead>\n",
       "    <tr style=\"text-align: right;\">\n",
       "      <th></th>\n",
       "      <th>product_name</th>\n",
       "      <th>page_link</th>\n",
       "      <th>price</th>\n",
       "      <th>description</th>\n",
       "      <th>image_link</th>\n",
       "      <th>brand</th>\n",
       "    </tr>\n",
       "  </thead>\n",
       "  <tbody>\n",
       "    <tr>\n",
       "      <th>0</th>\n",
       "      <td>Straight-cut Jacket</td>\n",
       "      <td>https://www2.hm.com/en_us/productpage.06364550...</td>\n",
       "      <td>34.99</td>\n",
       "      <td>Straight-cut jacket in woven fabric with notch...</td>\n",
       "      <td>http://lp2.hm.com/hmgoepprod?set=source[/07/25...</td>\n",
       "      <td>H&amp;M</td>\n",
       "    </tr>\n",
       "    <tr>\n",
       "      <th>1</th>\n",
       "      <td>Linen-blend Jacket</td>\n",
       "      <td>https://www2.hm.com/en_us/productpage.07554510...</td>\n",
       "      <td>59.99</td>\n",
       "      <td>Gently fitted jacket in soft, woven fabric mad...</td>\n",
       "      <td>http://lp2.hm.com/hmgoepprod?set=source[/27/f3...</td>\n",
       "      <td>H&amp;M</td>\n",
       "    </tr>\n",
       "    <tr>\n",
       "      <th>2</th>\n",
       "      <td>Double-breasted Jacket</td>\n",
       "      <td>https://www2.hm.com/en_us/productpage.07178790...</td>\n",
       "      <td>34.99</td>\n",
       "      <td>Longer, double-breasted jacket in woven fabric...</td>\n",
       "      <td>http://lp2.hm.com/hmgoepprod?set=source[/2c/3d...</td>\n",
       "      <td>H&amp;M</td>\n",
       "    </tr>\n",
       "    <tr>\n",
       "      <th>3</th>\n",
       "      <td>Linen-blend Jacket</td>\n",
       "      <td>https://www2.hm.com/en_us/productpage.07246260...</td>\n",
       "      <td>49.99</td>\n",
       "      <td>Gently fitted jacket in a linen and viscose bl...</td>\n",
       "      <td>http://lp2.hm.com/hmgoepprod?set=source[/89/66...</td>\n",
       "      <td>H&amp;M</td>\n",
       "    </tr>\n",
       "    <tr>\n",
       "      <th>4</th>\n",
       "      <td>Fitted Blazer</td>\n",
       "      <td>https://www2.hm.com/en_us/productpage.05686010...</td>\n",
       "      <td>34.99</td>\n",
       "      <td>Fitted blazer in woven fabric with notched lap...</td>\n",
       "      <td>http://lp2.hm.com/hmgoepprod?set=source[/c0/a1...</td>\n",
       "      <td>H&amp;M</td>\n",
       "    </tr>\n",
       "  </tbody>\n",
       "</table>\n",
       "</div>"
      ],
      "text/plain": [
       "             product_name                                          page_link  \\\n",
       "0     Straight-cut Jacket  https://www2.hm.com/en_us/productpage.06364550...   \n",
       "1      Linen-blend Jacket  https://www2.hm.com/en_us/productpage.07554510...   \n",
       "2  Double-breasted Jacket  https://www2.hm.com/en_us/productpage.07178790...   \n",
       "3      Linen-blend Jacket  https://www2.hm.com/en_us/productpage.07246260...   \n",
       "4           Fitted Blazer  https://www2.hm.com/en_us/productpage.05686010...   \n",
       "\n",
       "   price                                        description  \\\n",
       "0  34.99  Straight-cut jacket in woven fabric with notch...   \n",
       "1  59.99  Gently fitted jacket in soft, woven fabric mad...   \n",
       "2  34.99  Longer, double-breasted jacket in woven fabric...   \n",
       "3  49.99  Gently fitted jacket in a linen and viscose bl...   \n",
       "4  34.99  Fitted blazer in woven fabric with notched lap...   \n",
       "\n",
       "                                          image_link brand  \n",
       "0  http://lp2.hm.com/hmgoepprod?set=source[/07/25...   H&M  \n",
       "1  http://lp2.hm.com/hmgoepprod?set=source[/27/f3...   H&M  \n",
       "2  http://lp2.hm.com/hmgoepprod?set=source[/2c/3d...   H&M  \n",
       "3  http://lp2.hm.com/hmgoepprod?set=source[/89/66...   H&M  \n",
       "4  http://lp2.hm.com/hmgoepprod?set=source[/c0/a1...   H&M  "
      ]
     },
     "execution_count": 61,
     "metadata": {},
     "output_type": "execute_result"
    }
   ],
   "source": [
    "df.head()"
   ]
  },
  {
   "cell_type": "code",
   "execution_count": 62,
   "metadata": {
    "ExecuteTime": {
     "end_time": "2019-04-07T04:53:32.884997Z",
     "start_time": "2019-04-07T04:53:32.874239Z"
    }
   },
   "outputs": [
    {
     "data": {
      "text/plain": [
       "(17625, 33222)"
      ]
     },
     "execution_count": 62,
     "metadata": {},
     "output_type": "execute_result"
    }
   ],
   "source": [
    "len(df.product_name.unique()), len(df)"
   ]
  },
  {
   "cell_type": "code",
   "execution_count": 63,
   "metadata": {
    "ExecuteTime": {
     "end_time": "2019-04-07T04:53:33.247203Z",
     "start_time": "2019-04-07T04:53:33.244330Z"
    }
   },
   "outputs": [],
   "source": [
    "# df['description'] = df['product_name'] + ' ' + df['description']"
   ]
  },
  {
   "cell_type": "code",
   "execution_count": 64,
   "metadata": {
    "ExecuteTime": {
     "end_time": "2019-04-07T04:53:34.000376Z",
     "start_time": "2019-04-07T04:53:33.987709Z"
    }
   },
   "outputs": [],
   "source": [
    "df['description'] = df['description'].astype(str)"
   ]
  },
  {
   "cell_type": "code",
   "execution_count": 65,
   "metadata": {
    "ExecuteTime": {
     "end_time": "2019-04-07T04:53:34.483488Z",
     "start_time": "2019-04-07T04:53:34.429639Z"
    }
   },
   "outputs": [],
   "source": [
    "df['description'] = df['description'].apply(lambda x: x.lower().replace('description',''))"
   ]
  },
  {
   "cell_type": "code",
   "execution_count": 66,
   "metadata": {
    "ExecuteTime": {
     "end_time": "2019-04-07T04:53:35.399304Z",
     "start_time": "2019-04-07T04:53:35.387150Z"
    }
   },
   "outputs": [
    {
     "data": {
      "text/html": [
       "<div>\n",
       "<style scoped>\n",
       "    .dataframe tbody tr th:only-of-type {\n",
       "        vertical-align: middle;\n",
       "    }\n",
       "\n",
       "    .dataframe tbody tr th {\n",
       "        vertical-align: top;\n",
       "    }\n",
       "\n",
       "    .dataframe thead th {\n",
       "        text-align: right;\n",
       "    }\n",
       "</style>\n",
       "<table border=\"1\" class=\"dataframe\">\n",
       "  <thead>\n",
       "    <tr style=\"text-align: right;\">\n",
       "      <th></th>\n",
       "      <th>index</th>\n",
       "      <th>product_name</th>\n",
       "      <th>page_link</th>\n",
       "      <th>price</th>\n",
       "      <th>description</th>\n",
       "      <th>image_link</th>\n",
       "      <th>brand</th>\n",
       "    </tr>\n",
       "  </thead>\n",
       "  <tbody>\n",
       "    <tr>\n",
       "      <th>0</th>\n",
       "      <td>0</td>\n",
       "      <td>Straight-cut Jacket</td>\n",
       "      <td>https://www2.hm.com/en_us/productpage.06364550...</td>\n",
       "      <td>34.99</td>\n",
       "      <td>straight-cut jacket in woven fabric with notch...</td>\n",
       "      <td>http://lp2.hm.com/hmgoepprod?set=source[/07/25...</td>\n",
       "      <td>H&amp;M</td>\n",
       "    </tr>\n",
       "    <tr>\n",
       "      <th>1</th>\n",
       "      <td>1</td>\n",
       "      <td>Linen-blend Jacket</td>\n",
       "      <td>https://www2.hm.com/en_us/productpage.07554510...</td>\n",
       "      <td>59.99</td>\n",
       "      <td>gently fitted jacket in soft, woven fabric mad...</td>\n",
       "      <td>http://lp2.hm.com/hmgoepprod?set=source[/27/f3...</td>\n",
       "      <td>H&amp;M</td>\n",
       "    </tr>\n",
       "    <tr>\n",
       "      <th>2</th>\n",
       "      <td>2</td>\n",
       "      <td>Double-breasted Jacket</td>\n",
       "      <td>https://www2.hm.com/en_us/productpage.07178790...</td>\n",
       "      <td>34.99</td>\n",
       "      <td>longer, double-breasted jacket in woven fabric...</td>\n",
       "      <td>http://lp2.hm.com/hmgoepprod?set=source[/2c/3d...</td>\n",
       "      <td>H&amp;M</td>\n",
       "    </tr>\n",
       "    <tr>\n",
       "      <th>3</th>\n",
       "      <td>3</td>\n",
       "      <td>Linen-blend Jacket</td>\n",
       "      <td>https://www2.hm.com/en_us/productpage.07246260...</td>\n",
       "      <td>49.99</td>\n",
       "      <td>gently fitted jacket in a linen and viscose bl...</td>\n",
       "      <td>http://lp2.hm.com/hmgoepprod?set=source[/89/66...</td>\n",
       "      <td>H&amp;M</td>\n",
       "    </tr>\n",
       "    <tr>\n",
       "      <th>4</th>\n",
       "      <td>4</td>\n",
       "      <td>Fitted Blazer</td>\n",
       "      <td>https://www2.hm.com/en_us/productpage.05686010...</td>\n",
       "      <td>34.99</td>\n",
       "      <td>fitted blazer in woven fabric with notched lap...</td>\n",
       "      <td>http://lp2.hm.com/hmgoepprod?set=source[/c0/a1...</td>\n",
       "      <td>H&amp;M</td>\n",
       "    </tr>\n",
       "  </tbody>\n",
       "</table>\n",
       "</div>"
      ],
      "text/plain": [
       "   index            product_name  \\\n",
       "0      0     Straight-cut Jacket   \n",
       "1      1      Linen-blend Jacket   \n",
       "2      2  Double-breasted Jacket   \n",
       "3      3      Linen-blend Jacket   \n",
       "4      4           Fitted Blazer   \n",
       "\n",
       "                                           page_link  price  \\\n",
       "0  https://www2.hm.com/en_us/productpage.06364550...  34.99   \n",
       "1  https://www2.hm.com/en_us/productpage.07554510...  59.99   \n",
       "2  https://www2.hm.com/en_us/productpage.07178790...  34.99   \n",
       "3  https://www2.hm.com/en_us/productpage.07246260...  49.99   \n",
       "4  https://www2.hm.com/en_us/productpage.05686010...  34.99   \n",
       "\n",
       "                                         description  \\\n",
       "0  straight-cut jacket in woven fabric with notch...   \n",
       "1  gently fitted jacket in soft, woven fabric mad...   \n",
       "2  longer, double-breasted jacket in woven fabric...   \n",
       "3  gently fitted jacket in a linen and viscose bl...   \n",
       "4  fitted blazer in woven fabric with notched lap...   \n",
       "\n",
       "                                          image_link brand  \n",
       "0  http://lp2.hm.com/hmgoepprod?set=source[/07/25...   H&M  \n",
       "1  http://lp2.hm.com/hmgoepprod?set=source[/27/f3...   H&M  \n",
       "2  http://lp2.hm.com/hmgoepprod?set=source[/2c/3d...   H&M  \n",
       "3  http://lp2.hm.com/hmgoepprod?set=source[/89/66...   H&M  \n",
       "4  http://lp2.hm.com/hmgoepprod?set=source[/c0/a1...   H&M  "
      ]
     },
     "execution_count": 66,
     "metadata": {},
     "output_type": "execute_result"
    }
   ],
   "source": [
    "df.reset_index(inplace=True)\n",
    "df.head()"
   ]
  },
  {
   "cell_type": "code",
   "execution_count": 67,
   "metadata": {
    "ExecuteTime": {
     "end_time": "2019-04-07T04:53:36.422110Z",
     "start_time": "2019-04-07T04:53:36.419502Z"
    },
    "scrolled": true
   },
   "outputs": [],
   "source": [
    "# !pip install -U gensim\n",
    "# ! sudo rm -f /etc/boto.cfg\n",
    "# !pip install google-compute-engine"
   ]
  },
  {
   "cell_type": "code",
   "execution_count": 68,
   "metadata": {
    "ExecuteTime": {
     "end_time": "2019-04-07T04:53:37.417032Z",
     "start_time": "2019-04-07T04:53:37.349111Z"
    }
   },
   "outputs": [
    {
     "name": "stdout",
     "output_type": "stream",
     "text": [
      "[nltk_data] Downloading package punkt to /home/jupyter/nltk_data...\n",
      "[nltk_data]   Package punkt is already up-to-date!\n"
     ]
    },
    {
     "data": {
      "text/plain": [
       "True"
      ]
     },
     "execution_count": 68,
     "metadata": {},
     "output_type": "execute_result"
    }
   ],
   "source": [
    "import pandas as pd\n",
    "import numpy as np\n",
    "from tqdm import tqdm\n",
    "tqdm.pandas(desc=\"progress-bar\")\n",
    "from gensim.models import Doc2Vec\n",
    "from sklearn import utils\n",
    "from sklearn.model_selection import train_test_split\n",
    "import gensim\n",
    "from sklearn.linear_model import LogisticRegression\n",
    "from gensim.models.doc2vec import TaggedDocument\n",
    "import re\n",
    "import seaborn as sns\n",
    "import matplotlib.pyplot as plt\n",
    "import nltk\n",
    "import nltk\n",
    "from nltk.corpus import stopwords\n",
    "nltk.download('punkt')"
   ]
  },
  {
   "cell_type": "markdown",
   "metadata": {},
   "source": [
    "Text processing"
   ]
  },
  {
   "cell_type": "code",
   "execution_count": 69,
   "metadata": {
    "ExecuteTime": {
     "end_time": "2019-04-07T04:53:44.304061Z",
     "start_time": "2019-04-07T04:53:39.393666Z"
    }
   },
   "outputs": [],
   "source": [
    "from bs4 import BeautifulSoup\n",
    "\n",
    "def cleanText(text):\n",
    "    text = BeautifulSoup(text, \"lxml\").text\n",
    "    text = re.sub(r'\\|\\|\\|', r' ', text) \n",
    "    text = re.sub(r'http\\S+', r'<URL>', text)\n",
    "    text = text.lower()\n",
    "    text = text.replace('x', '')\n",
    "    return text\n",
    "df['description']= df['description'].apply(cleanText)"
   ]
  },
  {
   "cell_type": "code",
   "execution_count": 70,
   "metadata": {
    "ExecuteTime": {
     "end_time": "2019-04-07T04:53:45.519940Z",
     "start_time": "2019-04-07T04:53:45.514908Z"
    }
   },
   "outputs": [],
   "source": [
    "from sklearn.feature_extraction import stop_words\n",
    "import string\n",
    "def clean_text(text):\n",
    "    \"\"\"\n",
    "    Tokenize text and return a non-unique list of tokenized words\n",
    "    found in the text. Normalize to lowercase, strip punctuation,\n",
    "    remove stop words, drop words of length < 3, strip digits.\n",
    "    \"\"\"\n",
    "    stops = list(stop_words.ENGLISH_STOP_WORDS)\n",
    "    text = text.lower()\n",
    "    regex = re.compile('[' + re.escape(string.punctuation) + '0-9\\\\r\\\\t\\\\n]')\n",
    "    nopunct = regex.sub(\" \", text)  # delete stuff but leave at least a space to avoid clumping together\n",
    "    words = nopunct.split(\" \")\n",
    "    words = [w for w in words if (len(w) > 2 and (w not in stops))]  # ignore a, an, to, at, be, ...\n",
    "    words = ' '.join(words)\n",
    "\n",
    "\n",
    "    return words"
   ]
  },
  {
   "cell_type": "code",
   "execution_count": 71,
   "metadata": {
    "ExecuteTime": {
     "end_time": "2019-04-07T04:54:06.077254Z",
     "start_time": "2019-04-07T04:54:00.440228Z"
    },
    "scrolled": true
   },
   "outputs": [],
   "source": [
    "df['description'] = df['description'].apply(lambda x: clean_text(x))"
   ]
  },
  {
   "cell_type": "markdown",
   "metadata": {},
   "source": [
    "Tokenize"
   ]
  },
  {
   "cell_type": "code",
   "execution_count": 72,
   "metadata": {
    "ExecuteTime": {
     "end_time": "2019-04-07T04:54:06.083558Z",
     "start_time": "2019-04-07T04:54:06.079871Z"
    }
   },
   "outputs": [],
   "source": [
    "def tokenize_text(text):\n",
    "    tokens = []\n",
    "    for sent in nltk.sent_tokenize(text):\n",
    "        for word in nltk.word_tokenize(sent):\n",
    "            if len(word) < 2:\n",
    "                continue\n",
    "            tokens.append(word.lower())\n",
    "    return tokens"
   ]
  },
  {
   "cell_type": "code",
   "execution_count": 73,
   "metadata": {
    "ExecuteTime": {
     "end_time": "2019-04-07T04:54:18.481074Z",
     "start_time": "2019-04-07T04:54:09.865368Z"
    }
   },
   "outputs": [],
   "source": [
    "df_tagged = df.apply(\n",
    "    lambda r: TaggedDocument(words=tokenize_text(r['description']), tags=[r['index']]), axis=1)\n"
   ]
  },
  {
   "cell_type": "code",
   "execution_count": 74,
   "metadata": {
    "ExecuteTime": {
     "end_time": "2019-04-07T04:54:18.490108Z",
     "start_time": "2019-04-07T04:54:18.483213Z"
    }
   },
   "outputs": [
    {
     "data": {
      "text/plain": [
       "0    ([straight, cut, jacket, woven, fabric, notche...\n",
       "1    ([gently, fitted, jacket, soft, woven, fabric,...\n",
       "2    ([longer, double, breasted, jacket, woven, fab...\n",
       "3    ([gently, fitted, jacket, linen, viscose, blen...\n",
       "4    ([fitted, blazer, woven, fabric, notched, lape...\n",
       "dtype: object"
      ]
     },
     "execution_count": 74,
     "metadata": {},
     "output_type": "execute_result"
    }
   ],
   "source": [
    "df_tagged.head()"
   ]
  },
  {
   "cell_type": "code",
   "execution_count": 29,
   "metadata": {
    "ExecuteTime": {
     "end_time": "2019-04-07T03:51:42.695757Z",
     "start_time": "2019-04-07T03:51:38.925752Z"
    }
   },
   "outputs": [
    {
     "name": "stdout",
     "output_type": "stream",
     "text": [
      "Archive:  glove.6B.100d.txt.zip\n",
      "  inflating: glove.6B.100d.txt       [binary]\n"
     ]
    }
   ],
   "source": [
    "! unzip -a glove.6B.100d.txt.zip"
   ]
  },
  {
   "cell_type": "markdown",
   "metadata": {},
   "source": [
    "model 1 - doc2vec model from scratch"
   ]
  },
  {
   "cell_type": "code",
   "execution_count": 87,
   "metadata": {
    "ExecuteTime": {
     "end_time": "2019-04-07T04:57:20.946549Z",
     "start_time": "2019-04-07T04:57:20.274587Z"
    }
   },
   "outputs": [
    {
     "name": "stdout",
     "output_type": "stream",
     "text": [
      "CPU times: user 664 ms, sys: 0 ns, total: 664 ms\n",
      "Wall time: 663 ms\n"
     ]
    }
   ],
   "source": [
    "model = Doc2Vec(vector_size=100, min_count=2, workers=6)\n",
    "%time model.build_vocab(df_tagged)"
   ]
  },
  {
   "cell_type": "markdown",
   "metadata": {
    "ExecuteTime": {
     "end_time": "2019-04-10T02:12:53.110475Z",
     "start_time": "2019-04-10T02:12:53.106029Z"
    }
   },
   "source": [
    "model 2 - Initialize doc2vec with word2vec embeddings "
   ]
  },
  {
   "cell_type": "code",
   "execution_count": 75,
   "metadata": {
    "ExecuteTime": {
     "end_time": "2019-04-07T04:54:29.441937Z",
     "start_time": "2019-04-07T04:54:26.068799Z"
    }
   },
   "outputs": [
    {
     "data": {
      "text/plain": [
       "(400000, 100)"
      ]
     },
     "execution_count": 75,
     "metadata": {},
     "output_type": "execute_result"
    }
   ],
   "source": [
    "from gensim.scripts.glove2word2vec import glove2word2vec\n",
    "glove_input_file = 'glove.6B.100d.txt'\n",
    "word2vec_output_file = 'glove.6B.100d.txt.word2vec'\n",
    "glove2word2vec(glove_input_file, word2vec_output_file)"
   ]
  },
  {
   "cell_type": "code",
   "execution_count": 77,
   "metadata": {
    "ExecuteTime": {
     "end_time": "2019-04-07T04:54:38.774646Z",
     "start_time": "2019-04-07T04:54:38.454388Z"
    }
   },
   "outputs": [
    {
     "name": "stdout",
     "output_type": "stream",
     "text": [
      "CPU times: user 316 ms, sys: 0 ns, total: 316 ms\n",
      "Wall time: 315 ms\n"
     ]
    }
   ],
   "source": [
    "from gensim.models import Word2Vec\n",
    "word2vec = Word2Vec(size=100)\n",
    "%time word2vec.build_vocab([word for text in df_tagged for word in text])"
   ]
  },
  {
   "cell_type": "code",
   "execution_count": 81,
   "metadata": {
    "ExecuteTime": {
     "end_time": "2019-04-07T04:55:42.743410Z",
     "start_time": "2019-04-07T04:55:10.808450Z"
    }
   },
   "outputs": [
    {
     "name": "stdout",
     "output_type": "stream",
     "text": [
      "CPU times: user 32.7 s, sys: 820 ms, total: 33.5 s\n",
      "Wall time: 31.9 s\n"
     ]
    }
   ],
   "source": [
    "%time word2vec.intersect_word2vec_format(\"glove.6B.100d.txt.word2vec\",lockf=1.0, binary=False, encoding='utf8', unicode_errors='strict')"
   ]
  },
  {
   "cell_type": "markdown",
   "metadata": {},
   "source": [
    "Train models <br>\n",
    "model 1 - model <br>\n",
    "model 2 - model_pretrained <br>"
   ]
  },
  {
   "cell_type": "code",
   "execution_count": 88,
   "metadata": {
    "ExecuteTime": {
     "end_time": "2019-04-07T04:59:21.634008Z",
     "start_time": "2019-04-07T04:57:47.687395Z"
    }
   },
   "outputs": [
    {
     "name": "stdout",
     "output_type": "stream",
     "text": [
      "CPU times: user 2min 20s, sys: 49.7 s, total: 3min 10s\n",
      "Wall time: 1min 33s\n"
     ]
    }
   ],
   "source": [
    "%time model.train(df_tagged, total_examples=model.corpus_count, epochs=30)"
   ]
  },
  {
   "cell_type": "code",
   "execution_count": 89,
   "metadata": {
    "ExecuteTime": {
     "end_time": "2019-04-07T04:59:25.253626Z",
     "start_time": "2019-04-07T04:59:24.679579Z"
    }
   },
   "outputs": [],
   "source": [
    "model_pretrained = Doc2Vec(vector_size=100, min_count=2, workers=6)\n",
    "model_pretrained.build_vocab(df_tagged)"
   ]
  },
  {
   "cell_type": "code",
   "execution_count": 90,
   "metadata": {
    "ExecuteTime": {
     "end_time": "2019-04-07T05:01:03.328612Z",
     "start_time": "2019-04-07T04:59:29.801353Z"
    }
   },
   "outputs": [
    {
     "name": "stdout",
     "output_type": "stream",
     "text": [
      "CPU times: user 2min 19s, sys: 51.2 s, total: 3min 10s\n",
      "Wall time: 1min 33s\n"
     ]
    }
   ],
   "source": [
    "model_pretrained.wv = word2vec.wv\n",
    "%time model_pretrained.train(df_tagged, total_examples=model.corpus_count, epochs=30)"
   ]
  },
  {
   "cell_type": "markdown",
   "metadata": {},
   "source": [
    "Find similar vectors from both the models "
   ]
  },
  {
   "cell_type": "code",
   "execution_count": 104,
   "metadata": {
    "ExecuteTime": {
     "end_time": "2019-04-07T05:12:04.323063Z",
     "start_time": "2019-04-07T05:12:04.309180Z"
    }
   },
   "outputs": [
    {
     "data": {
      "text/plain": [
       "[(2242, 0.6167574524879456),\n",
       " (10, 0.5978948473930359),\n",
       " (33051, 0.5920794606208801),\n",
       " (23731, 0.5832704305648804),\n",
       " (18, 0.5827090740203857)]"
      ]
     },
     "execution_count": 104,
     "metadata": {},
     "output_type": "execute_result"
    }
   ],
   "source": [
    "inferred_vector = model.infer_vector(df_tagged[0].words, steps=200)\n",
    "model.docvecs.most_similar([inferred_vector], topn=5)"
   ]
  },
  {
   "cell_type": "code",
   "execution_count": 93,
   "metadata": {
    "ExecuteTime": {
     "end_time": "2019-04-07T05:11:40.091829Z",
     "start_time": "2019-04-07T05:11:40.070314Z"
    }
   },
   "outputs": [
    {
     "data": {
      "text/plain": [
       "[(31599, 0.8587937951087952),\n",
       " (32491, 0.8429571390151978),\n",
       " (33061, 0.8381904363632202),\n",
       " (32336, 0.8298468589782715),\n",
       " (28822, 0.8279505968093872)]"
      ]
     },
     "execution_count": 93,
     "metadata": {},
     "output_type": "execute_result"
    }
   ],
   "source": [
    "inferred_vector = model_pretrained.infer_vector(df_tagged[0].words, steps=20)\n",
    "model_pretrained.docvecs.most_similar([inferred_vector], topn=5)"
   ]
  },
  {
   "cell_type": "code",
   "execution_count": 55,
   "metadata": {
    "ExecuteTime": {
     "end_time": "2019-04-07T04:08:43.136610Z",
     "start_time": "2019-04-07T04:08:43.130293Z"
    }
   },
   "outputs": [
    {
     "data": {
      "text/plain": [
       "['https://www2.hm.com/en_us/productpage.0636455005.html',\n",
       " 'https://shop.mango.com/us/women/jackets-blazers/belt-structured-blazer_41095821.html?c=08&n=1&s=prendas_she.familia;16,304',\n",
       " 'https://shop.mango.com/us/women/jackets-blazers/belt-structured-blazer_41095821.html?c=08&n=1&s=prendas_she.familia;17',\n",
       " 'https://shop.mango.com/us/women/jackets-blazers/structured-linen-jacket_43065745.html?c=81&n=1&s=prendas_she.familia;17',\n",
       " 'https://shop.mango.com/us/women/jumpsuits-long/polka-dot-long-jumpsuit_41085749.html?c=56&n=1&s=prendas_she.familia;34',\n",
       " 'https://shop.mango.com/us/women/coats-coats/unstructured-wool-blend-coat_41090769.html?c=99&n=1&s=prendas_she.familia;15']"
      ]
     },
     "execution_count": 55,
     "metadata": {},
     "output_type": "execute_result"
    }
   ],
   "source": [
    "list(df[df['index'].isin(['0','30947','30779','32364','29831','29850'])]['page_link'])"
   ]
  },
  {
   "cell_type": "code",
   "execution_count": 56,
   "metadata": {
    "ExecuteTime": {
     "end_time": "2019-04-07T04:23:53.380635Z",
     "start_time": "2019-04-07T04:23:53.359839Z"
    }
   },
   "outputs": [
    {
     "data": {
      "text/plain": [
       "[(26701, 0.7871068716049194),\n",
       " (7523, 0.785920262336731),\n",
       " (23116, 0.7799015045166016),\n",
       " (26707, 0.7683223485946655),\n",
       " (6341, 0.7644155621528625)]"
      ]
     },
     "execution_count": 56,
     "metadata": {},
     "output_type": "execute_result"
    }
   ],
   "source": [
    "inferred_vector = model_pretrained.infer_vector(df_tagged[0].words, steps=20)\n",
    "model_pretrained.docvecs.most_similar([inferred_vector], topn=5)"
   ]
  },
  {
   "cell_type": "code",
   "execution_count": 57,
   "metadata": {
    "ExecuteTime": {
     "end_time": "2019-04-07T04:24:18.999535Z",
     "start_time": "2019-04-07T04:24:18.993393Z"
    }
   },
   "outputs": [
    {
     "data": {
      "text/plain": [
       "['https://www2.hm.com/en_us/productpage.0636455005.html',\n",
       " 'https://www.macys.com//shop/product/calvin-klein-textured-one-button-blazer?ID=7950280&CategoryID=188851',\n",
       " 'https://www.macys.com//shop/product/rachel-rachel-roy-jacquard-midi-skirt-created-for-macys?ID=3097258&CategoryID=188851',\n",
       " 'http://us.topshop.com/en/tsus/product/clothing-70483/cable-knit-crop-jumper-8491108',\n",
       " 'http://us.topshop.com/en/tsus/product/clothing-70483/textured-boucle-jacket-8319734',\n",
       " 'http://us.topshop.com/en/tsus/product/clothing-70483/bonded-belted-jacket-8319684']"
      ]
     },
     "execution_count": 57,
     "metadata": {},
     "output_type": "execute_result"
    }
   ],
   "source": [
    "list(df[df['index'].isin(['0','26701','7523','23116','26707','6341'])]['page_link'])"
   ]
  },
  {
   "cell_type": "markdown",
   "metadata": {},
   "source": [
    "#####################################        THE END         #############################################"
   ]
  },
  {
   "cell_type": "code",
   "execution_count": 58,
   "metadata": {
    "ExecuteTime": {
     "end_time": "2019-04-07T04:32:24.541763Z",
     "start_time": "2019-04-07T04:32:23.906235Z"
    }
   },
   "outputs": [],
   "source": [
    "from gensim.test.utils import get_tmpfile\n",
    "fname_model = get_tmpfile(\"muimui_doc2vec_model\")\n",
    "model.save(fname_model)\n",
    "fname_model_pretrained = get_tmpfile(\"muimui_doc2vec_model_pretrained\")\n",
    "model_pretrained.save(fname_model_pretrained)"
   ]
  },
  {
   "cell_type": "code",
   "execution_count": 127,
   "metadata": {
    "ExecuteTime": {
     "end_time": "2019-04-07T01:57:16.904539Z",
     "start_time": "2019-04-07T01:57:16.901357Z"
    }
   },
   "outputs": [],
   "source": [
    "model_dbow.delete_temporary_training_data(keep_doctags_vectors=True, keep_inference=True)\n",
    "model_dmm.delete_temporary_training_data(keep_doctags_vectors=True, keep_inference=True)"
   ]
  },
  {
   "cell_type": "code",
   "execution_count": 130,
   "metadata": {
    "ExecuteTime": {
     "end_time": "2019-04-07T01:57:42.567211Z",
     "start_time": "2019-04-07T01:57:42.564230Z"
    }
   },
   "outputs": [],
   "source": [
    "# ! pip install testfixtures"
   ]
  },
  {
   "cell_type": "code",
   "execution_count": 131,
   "metadata": {
    "ExecuteTime": {
     "end_time": "2019-04-07T01:57:43.773119Z",
     "start_time": "2019-04-07T01:57:43.500662Z"
    }
   },
   "outputs": [],
   "source": [
    "from gensim.test.test_doc2vec import ConcatenatedDoc2Vec\n",
    "new_model = ConcatenatedDoc2Vec([model_dbow, model_dmm])"
   ]
  },
  {
   "cell_type": "code",
   "execution_count": 133,
   "metadata": {
    "ExecuteTime": {
     "end_time": "2019-04-07T01:58:49.413733Z",
     "start_time": "2019-04-07T01:58:49.409683Z"
    }
   },
   "outputs": [],
   "source": [
    "def get_vectors(model, tagged_docs):\n",
    "    sents = tagged_docs.values\n",
    "    targets, regressors = zip(*[(doc.tags[0], model.infer_vector(doc.words, steps=20)) for doc in sents])\n",
    "    return targets, regressors"
   ]
  },
  {
   "cell_type": "code",
   "execution_count": 134,
   "metadata": {
    "ExecuteTime": {
     "end_time": "2019-04-07T02:00:05.934958Z",
     "start_time": "2019-04-07T01:58:49.835589Z"
    }
   },
   "outputs": [],
   "source": [
    "index, doc_vec = get_vectors(new_model, df_tagged)"
   ]
  },
  {
   "cell_type": "code",
   "execution_count": 137,
   "metadata": {
    "ExecuteTime": {
     "end_time": "2019-04-07T02:03:52.814970Z",
     "start_time": "2019-04-07T02:03:52.811704Z"
    }
   },
   "outputs": [],
   "source": [
    "# ! pip install annoy"
   ]
  },
  {
   "cell_type": "code",
   "execution_count": 138,
   "metadata": {
    "ExecuteTime": {
     "end_time": "2019-04-07T02:03:53.916965Z",
     "start_time": "2019-04-07T02:03:53.910618Z"
    }
   },
   "outputs": [],
   "source": [
    "from gensim.similarities.index import AnnoyIndexer"
   ]
  },
  {
   "cell_type": "code",
   "execution_count": 140,
   "metadata": {
    "ExecuteTime": {
     "end_time": "2019-04-07T02:05:19.577091Z",
     "start_time": "2019-04-07T02:05:19.574122Z"
    }
   },
   "outputs": [],
   "source": [
    "annoy_index = AnnoyIndexer(model_dbow, num_trees=50)"
   ]
  }
 ],
 "metadata": {
  "kernelspec": {
   "display_name": "Python 3",
   "language": "python",
   "name": "python3"
  },
  "language_info": {
   "codemirror_mode": {
    "name": "ipython",
    "version": 3
   },
   "file_extension": ".py",
   "mimetype": "text/x-python",
   "name": "python",
   "nbconvert_exporter": "python",
   "pygments_lexer": "ipython3",
   "version": "3.7.3"
  },
  "toc": {
   "base_numbering": 1,
   "nav_menu": {},
   "number_sections": true,
   "sideBar": true,
   "skip_h1_title": false,
   "title_cell": "Table of Contents",
   "title_sidebar": "Contents",
   "toc_cell": false,
   "toc_position": {},
   "toc_section_display": true,
   "toc_window_display": false
  }
 },
 "nbformat": 4,
 "nbformat_minor": 2
}
