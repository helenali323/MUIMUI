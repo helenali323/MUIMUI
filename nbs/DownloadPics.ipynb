{
 "cells": [
  {
   "cell_type": "code",
   "execution_count": 2,
   "metadata": {
    "ExecuteTime": {
     "end_time": "2019-04-23T20:17:21.672869Z",
     "start_time": "2019-04-23T20:17:20.995068Z"
    }
   },
   "outputs": [],
   "source": [
    "import pandas as pd"
   ]
  },
  {
   "cell_type": "code",
   "execution_count": 3,
   "metadata": {
    "ExecuteTime": {
     "end_time": "2019-04-23T20:17:22.344896Z",
     "start_time": "2019-04-23T20:17:22.084218Z"
    }
   },
   "outputs": [],
   "source": [
    "df = pd.read_csv('../src/scraping/products.csv')"
   ]
  },
  {
   "cell_type": "code",
   "execution_count": 4,
   "metadata": {
    "ExecuteTime": {
     "end_time": "2019-04-23T20:17:22.855679Z",
     "start_time": "2019-04-23T20:17:22.845233Z"
    }
   },
   "outputs": [
    {
     "data": {
      "text/plain": [
       "(30370, 6)"
      ]
     },
     "execution_count": 4,
     "metadata": {},
     "output_type": "execute_result"
    }
   ],
   "source": [
    "df.shape"
   ]
  },
  {
   "cell_type": "code",
   "execution_count": 5,
   "metadata": {
    "ExecuteTime": {
     "end_time": "2019-04-23T20:17:28.983788Z",
     "start_time": "2019-04-23T20:17:28.981037Z"
    }
   },
   "outputs": [],
   "source": [
    "from concurrent.futures import ProcessPoolExecutor, as_completed"
   ]
  },
  {
   "cell_type": "code",
   "execution_count": 6,
   "metadata": {
    "ExecuteTime": {
     "end_time": "2019-04-23T20:17:32.800538Z",
     "start_time": "2019-04-23T20:17:32.568854Z"
    }
   },
   "outputs": [],
   "source": [
    "import requests"
   ]
  },
  {
   "cell_type": "code",
   "execution_count": 7,
   "metadata": {
    "ExecuteTime": {
     "end_time": "2019-04-23T20:17:33.640604Z",
     "start_time": "2019-04-23T20:17:33.637944Z"
    }
   },
   "outputs": [],
   "source": [
    "import fcntl"
   ]
  },
  {
   "cell_type": "code",
   "execution_count": 8,
   "metadata": {
    "ExecuteTime": {
     "end_time": "2019-04-23T20:17:34.451956Z",
     "start_time": "2019-04-23T20:17:34.439984Z"
    }
   },
   "outputs": [],
   "source": [
    "def save_pic(x):\n",
    "    i, url = x\n",
    "    try:\n",
    "        pic_request = requests.get(url)\n",
    "        if pic_request.status_code == 200:\n",
    "            with open(f'../data/{i}.jpg', 'wb') as f:\n",
    "                f.write(pic_request.content)\n",
    "        else:\n",
    "            with  open('download.log', 'a') as g:\n",
    "                fcntl.flock(g, fcntl.LOCK_EX)\n",
    "                g.write(url)\n",
    "                fcntl.flock(g, fcntl.LOCK_UN)\n",
    "    except:\n",
    "        with  open('download.log', 'a') as g:\n",
    "            fcntl.flock(g, fcntl.LOCK_EX)\n",
    "            g.write(url)\n",
    "            fcntl.flock(g, fcntl.LOCK_UN)"
   ]
  },
  {
   "cell_type": "code",
   "execution_count": 9,
   "metadata": {
    "ExecuteTime": {
     "end_time": "2019-04-23T20:17:35.291001Z",
     "start_time": "2019-04-23T20:17:35.279276Z"
    }
   },
   "outputs": [],
   "source": [
    "job_list = [(i,j) for i, j in enumerate(df.image_link.values)]"
   ]
  },
  {
   "cell_type": "code",
   "execution_count": 10,
   "metadata": {
    "ExecuteTime": {
     "end_time": "2019-04-23T20:17:36.050049Z",
     "start_time": "2019-04-23T20:17:36.047386Z"
    }
   },
   "outputs": [],
   "source": [
    "n_jobs = 4"
   ]
  },
  {
   "cell_type": "code",
   "execution_count": 11,
   "metadata": {
    "ExecuteTime": {
     "end_time": "2019-04-23T20:17:36.928955Z",
     "start_time": "2019-04-23T20:17:36.660981Z"
    }
   },
   "outputs": [],
   "source": [
    "from fastprogress import progress_bar"
   ]
  },
  {
   "cell_type": "code",
   "execution_count": 12,
   "metadata": {
    "ExecuteTime": {
     "end_time": "2019-04-23T20:17:37.394294Z",
     "start_time": "2019-04-23T20:17:37.390174Z"
    }
   },
   "outputs": [],
   "source": [
    "def parallel(func, job_list, n_jobs=4):\n",
    "    with ProcessPoolExecutor(max_workers=n_jobs) as pool:\n",
    "        futures = [pool.submit(func, job) for job in job_list]\n",
    "        for f in progress_bar(as_completed(futures), total=len(job_list)):\n",
    "            pass\n",
    "    return [f.result() for f in futures]"
   ]
  },
  {
   "cell_type": "code",
   "execution_count": 13,
   "metadata": {
    "ExecuteTime": {
     "end_time": "2019-04-23T21:02:04.700470Z",
     "start_time": "2019-04-23T20:17:38.072250Z"
    }
   },
   "outputs": [
    {
     "data": {
      "text/html": [
       "\n",
       "    <div>\n",
       "        <style>\n",
       "            /* Turns off some styling */\n",
       "            progress {\n",
       "                /* gets rid of default border in Firefox and Opera. */\n",
       "                border: none;\n",
       "                /* Needs to be in here for Safari polyfill so background images work as expected. */\n",
       "                background-size: auto;\n",
       "            }\n",
       "            .progress-bar-interrupted, .progress-bar-interrupted::-webkit-progress-bar {\n",
       "                background: #F44336;\n",
       "            }\n",
       "        </style>\n",
       "      <progress value='30370' class='' max='30370', style='width:300px; height:20px; vertical-align: middle;'></progress>\n",
       "      100.00% [30370/30370 44:23<00:00]\n",
       "    </div>\n",
       "    "
      ],
      "text/plain": [
       "<IPython.core.display.HTML object>"
      ]
     },
     "metadata": {},
     "output_type": "display_data"
    }
   ],
   "source": [
    "result = parallel(save_pic, job_list)"
   ]
  },
  {
   "cell_type": "markdown",
   "metadata": {},
   "source": [
    "![](../data/1100.jpg)"
   ]
  },
  {
   "cell_type": "code",
   "execution_count": null,
   "metadata": {},
   "outputs": [],
   "source": []
  }
 ],
 "metadata": {
  "kernelspec": {
   "display_name": "Python 3",
   "language": "python",
   "name": "python3"
  },
  "language_info": {
   "codemirror_mode": {
    "name": "ipython",
    "version": 3
   },
   "file_extension": ".py",
   "mimetype": "text/x-python",
   "name": "python",
   "nbconvert_exporter": "python",
   "pygments_lexer": "ipython3",
   "version": "3.6.8"
  },
  "toc": {
   "base_numbering": 1,
   "nav_menu": {},
   "number_sections": true,
   "sideBar": true,
   "skip_h1_title": false,
   "title_cell": "Table of Contents",
   "title_sidebar": "Contents",
   "toc_cell": false,
   "toc_position": {},
   "toc_section_display": true,
   "toc_window_display": false
  }
 },
 "nbformat": 4,
 "nbformat_minor": 2
}
